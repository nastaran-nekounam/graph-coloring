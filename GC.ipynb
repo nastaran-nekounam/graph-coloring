{
 "metadata": {
  "language_info": {
   "codemirror_mode": {
    "name": "ipython",
    "version": 3
   },
   "file_extension": ".py",
   "mimetype": "text/x-python",
   "name": "python",
   "nbconvert_exporter": "python",
   "pygments_lexer": "ipython3",
   "version": "3.8.5-final"
  },
  "orig_nbformat": 2,
  "kernelspec": {
   "name": "python38564bitc941ba1b37504c67bb8f8634994eac58",
   "display_name": "Python 3.8.5 64-bit",
   "language": "python"
  }
 },
 "nbformat": 4,
 "nbformat_minor": 2,
 "cells": [
  {
   "cell_type": "code",
   "execution_count": 1,
   "metadata": {},
   "outputs": [],
   "source": [
    "N,E = [int(x) for x in input().split()] \n",
    "e = [[int(x) for x in input().split()] for j in range(E)] "
   ]
  },
  {
   "cell_type": "code",
   "execution_count": 2,
   "metadata": {},
   "outputs": [
    {
     "output_type": "stream",
     "name": "stdout",
     "text": [
      "2.0\n"
     ]
    }
   ],
   "source": [
    "from pulp import LpMinimize, LpProblem, LpStatus, lpSum, LpVariable\n",
    "model = LpProblem(name=\"graph-coloring\", sense=LpMinimize)\n",
    "c = {i: LpVariable(name=f\"c{i}\", lowBound=0) for i in range(N)}\n",
    "y = {i: LpVariable(name=f\"x{i}\", lowBound=0,cat=\"Binary\" ) for i in range(2*E)}\n",
    "\n",
    "\n",
    "#constraints\n",
    "for i in range(1,N):\n",
    "    model += c[0]>=c[i]\n",
    "\n",
    "for i in range(E):\n",
    "    model += c[e[i][0]]-c[e[i][1]] + 1 -N*(1-y[2*i]) <= 0\n",
    "    model += c[e[i][1]]-c[e[i][0]] + 1 -N*(1-y[2*i+1]) <= 0\n",
    "    model += y[2*i] + y[2*i+1] >= 1\n",
    "\n",
    "#objective function\n",
    "model += c[0]\n",
    "\n",
    "#solve and print\n",
    "status = model.solve()\n",
    "print(model.objective.value() +1)\n"
   ]
  }
 ]
}